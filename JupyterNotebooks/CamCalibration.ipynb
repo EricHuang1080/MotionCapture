{
 "cells": [
  {
   "cell_type": "code",
   "execution_count": 7,
   "id": "a60f537c-9e63-478a-ba0d-c9fae4735f6e",
   "metadata": {
    "editable": true,
    "slideshow": {
     "slide_type": ""
    },
    "tags": []
   },
   "outputs": [],
   "source": [
    "import cv2\n",
    "import numpy as np\n",
    "import nbimporter\n",
    "from CreateCAM import add_camera_name,set_camera_pixelVector\n",
    "\n",
    "def map_range(values, source_min, source_max, target_min, target_max):\n",
    "    # Convert input values to a NumPy array\n",
    "    values = np.array(values)\n",
    "    \n",
    "    # Apply the mapping formula\n",
    "    mapped_values = target_min + (values - source_min) * (target_max - target_min) / (source_max - source_min)\n",
    "    return mapped_values\n"
   ]
  },
  {
   "cell_type": "code",
   "execution_count": null,
   "id": "e7dd9e1f-dece-42d2-8705-c2014909ae4b",
   "metadata": {},
   "outputs": [],
   "source": []
  },
  {
   "cell_type": "code",
   "execution_count": 10,
   "id": "a4cf9f79-bf6b-42b6-8c21-10d94d858799",
   "metadata": {
    "editable": true,
    "slideshow": {
     "slide_type": ""
    },
    "tags": []
   },
   "outputs": [],
   "source": [
    "#CamName=input(\"Please enter camera name\")\n",
    "#add_camera_name(CamName)"
   ]
  },
  {
   "cell_type": "code",
   "execution_count": 12,
   "id": "d60eeefd-e06b-4d94-bad2-13e4282b6f5f",
   "metadata": {
    "editable": true,
    "scrolled": true,
    "slideshow": {
     "slide_type": ""
    },
    "tags": []
   },
   "outputs": [],
   "source": [
    "def camera_calibration(CamName,realZ,realX,realY,filename):\n",
    "   # CamName=input(\"Please enter camera name\")\n",
    "    add_camera_name(CamName)\n",
    "    \n",
    "    # Read the image\n",
    "    #pic=input(\"Please enter the picture taken by this camera\")\n",
    "    #realZ=float(input(\"Please enter the height from where you took (cm): \"))\n",
    "    image = cv2.imread(filename)\n",
    "    \n",
    "    # Check if the image was successfully loaded\n",
    "    if image is None:\n",
    "        print(\"Error: Could not load image.\")\n",
    "    #else:\n",
    "        # Display the image\n",
    "        #cv2.imshow(\"Loaded Image\", image)\n",
    "        #cv2.waitKey(0)  # Wait for a key press to close the window\n",
    "        #cv2.destroyAllWindows()\n",
    "    \n",
    "    \n",
    "    pixelX, pixelY = image.shape[:2]\n",
    "    \n",
    "    print(\"Picture size\",pixelX, pixelY)\n",
    "  #  realX=float(input(\"Please Pic X in cm: \"))\n",
    "  #  realY=float(input(\"Please Pic Y in cm: \"))\n",
    "    realX=realX/realZ \n",
    "    realY=realY/realZ\n",
    "    #map pixel on to real\n",
    "    source_range_x = (0, pixelX) \n",
    "    target_range_x = (0, realX)  \n",
    "    \n",
    "    source_range_y = (0, pixelY) \n",
    "    target_range_y = (0, realY)   \n",
    "    \n",
    "    values_to_map = [0,1]\n",
    "    \n",
    "    # Map the values using the function\n",
    "    mapped_values_x = map_range(values_to_map, source_range_x[0], source_range_x[1], target_range_x[0], target_range_x[1])\n",
    "    mapped_values_y = map_range(values_to_map, source_range_y[0], source_range_y[1], target_range_y[0], target_range_y[1])\n",
    "    \n",
    "    print(\"Mapped Values:\", mapped_values_x)\n",
    "    print(\"Mapped Values:\", mapped_values_y)\n",
    "    \n",
    "    \n",
    "    set_camera_pixelVector(CamName,[mapped_values_x[1],mapped_values_y[1],1],'CamID.json')\n"
   ]
  },
  {
   "cell_type": "code",
   "execution_count": 14,
   "id": "28280711-697d-4860-a988-aa4d8b07ccb2",
   "metadata": {},
   "outputs": [
    {
     "name": "stdout",
     "output_type": "stream",
     "text": [
      "Camera 'aaa' added successfully!\n",
      "Picture size 3024 4032\n",
      "Mapped Values: [0.         0.00033069]\n",
      "Mapped Values: [0.         0.00024802]\n",
      "pixelVector for 'aaa' updated successfully!\n"
     ]
    }
   ],
   "source": [
    "camera_calibration(\"aaa\",12,12,12,\"EricsPad.jpeg\")"
   ]
  },
  {
   "cell_type": "code",
   "execution_count": 24,
   "id": "10ad63e3-86e8-4957-936a-5435f2b88807",
   "metadata": {
    "editable": true,
    "slideshow": {
     "slide_type": ""
    },
    "tags": []
   },
   "outputs": [
    {
     "ename": "KeyboardInterrupt",
     "evalue": "Interrupted by user",
     "output_type": "error",
     "traceback": [
      "\u001b[0;31m---------------------------------------------------------------------------\u001b[0m",
      "\u001b[0;31mKeyboardInterrupt\u001b[0m                         Traceback (most recent call last)",
      "Cell \u001b[0;32mIn[24], line 1\u001b[0m\n\u001b[0;32m----> 1\u001b[0m camera_calibration()\n",
      "Cell \u001b[0;32mIn[18], line 2\u001b[0m, in \u001b[0;36mcamera_calibration\u001b[0;34m()\u001b[0m\n\u001b[1;32m      1\u001b[0m \u001b[38;5;28;01mdef\u001b[39;00m \u001b[38;5;21mcamera_calibration\u001b[39m():\n\u001b[0;32m----> 2\u001b[0m     CamName\u001b[38;5;241m=\u001b[39m\u001b[38;5;28minput\u001b[39m(\u001b[38;5;124m\"\u001b[39m\u001b[38;5;124mPlease enter camera name\u001b[39m\u001b[38;5;124m\"\u001b[39m)\n\u001b[1;32m      3\u001b[0m     add_camera_name(CamName)\n\u001b[1;32m      5\u001b[0m     \u001b[38;5;66;03m# Read the image\u001b[39;00m\n",
      "File \u001b[0;32m/opt/anaconda3/lib/python3.11/site-packages/ipykernel/kernelbase.py:1262\u001b[0m, in \u001b[0;36mKernel.raw_input\u001b[0;34m(self, prompt)\u001b[0m\n\u001b[1;32m   1260\u001b[0m     msg \u001b[38;5;241m=\u001b[39m \u001b[38;5;124m\"\u001b[39m\u001b[38;5;124mraw_input was called, but this frontend does not support input requests.\u001b[39m\u001b[38;5;124m\"\u001b[39m\n\u001b[1;32m   1261\u001b[0m     \u001b[38;5;28;01mraise\u001b[39;00m StdinNotImplementedError(msg)\n\u001b[0;32m-> 1262\u001b[0m \u001b[38;5;28;01mreturn\u001b[39;00m \u001b[38;5;28mself\u001b[39m\u001b[38;5;241m.\u001b[39m_input_request(\n\u001b[1;32m   1263\u001b[0m     \u001b[38;5;28mstr\u001b[39m(prompt),\n\u001b[1;32m   1264\u001b[0m     \u001b[38;5;28mself\u001b[39m\u001b[38;5;241m.\u001b[39m_parent_ident[\u001b[38;5;124m\"\u001b[39m\u001b[38;5;124mshell\u001b[39m\u001b[38;5;124m\"\u001b[39m],\n\u001b[1;32m   1265\u001b[0m     \u001b[38;5;28mself\u001b[39m\u001b[38;5;241m.\u001b[39mget_parent(\u001b[38;5;124m\"\u001b[39m\u001b[38;5;124mshell\u001b[39m\u001b[38;5;124m\"\u001b[39m),\n\u001b[1;32m   1266\u001b[0m     password\u001b[38;5;241m=\u001b[39m\u001b[38;5;28;01mFalse\u001b[39;00m,\n\u001b[1;32m   1267\u001b[0m )\n",
      "File \u001b[0;32m/opt/anaconda3/lib/python3.11/site-packages/ipykernel/kernelbase.py:1305\u001b[0m, in \u001b[0;36mKernel._input_request\u001b[0;34m(self, prompt, ident, parent, password)\u001b[0m\n\u001b[1;32m   1302\u001b[0m \u001b[38;5;28;01mexcept\u001b[39;00m \u001b[38;5;167;01mKeyboardInterrupt\u001b[39;00m:\n\u001b[1;32m   1303\u001b[0m     \u001b[38;5;66;03m# re-raise KeyboardInterrupt, to truncate traceback\u001b[39;00m\n\u001b[1;32m   1304\u001b[0m     msg \u001b[38;5;241m=\u001b[39m \u001b[38;5;124m\"\u001b[39m\u001b[38;5;124mInterrupted by user\u001b[39m\u001b[38;5;124m\"\u001b[39m\n\u001b[0;32m-> 1305\u001b[0m     \u001b[38;5;28;01mraise\u001b[39;00m \u001b[38;5;167;01mKeyboardInterrupt\u001b[39;00m(msg) \u001b[38;5;28;01mfrom\u001b[39;00m \u001b[38;5;28;01mNone\u001b[39;00m\n\u001b[1;32m   1306\u001b[0m \u001b[38;5;28;01mexcept\u001b[39;00m \u001b[38;5;167;01mException\u001b[39;00m:\n\u001b[1;32m   1307\u001b[0m     \u001b[38;5;28mself\u001b[39m\u001b[38;5;241m.\u001b[39mlog\u001b[38;5;241m.\u001b[39mwarning(\u001b[38;5;124m\"\u001b[39m\u001b[38;5;124mInvalid Message:\u001b[39m\u001b[38;5;124m\"\u001b[39m, exc_info\u001b[38;5;241m=\u001b[39m\u001b[38;5;28;01mTrue\u001b[39;00m)\n",
      "\u001b[0;31mKeyboardInterrupt\u001b[0m: Interrupted by user"
     ]
    }
   ],
   "source": []
  },
  {
   "cell_type": "code",
   "execution_count": null,
   "id": "d71e567c-49d2-469a-b138-79295c0aba7a",
   "metadata": {
    "editable": true,
    "slideshow": {
     "slide_type": ""
    },
    "tags": []
   },
   "outputs": [],
   "source": []
  },
  {
   "cell_type": "code",
   "execution_count": null,
   "id": "a203c4b8-7b57-474b-8c3a-df390e7c5ff6",
   "metadata": {},
   "outputs": [],
   "source": []
  },
  {
   "cell_type": "code",
   "execution_count": null,
   "id": "5a19fd8e-6135-46e1-8ef8-d83f5576b3b5",
   "metadata": {},
   "outputs": [],
   "source": []
  }
 ],
 "metadata": {
  "kernelspec": {
   "display_name": "Python 3 (ipykernel)",
   "language": "python",
   "name": "python3"
  },
  "language_info": {
   "codemirror_mode": {
    "name": "ipython",
    "version": 3
   },
   "file_extension": ".py",
   "mimetype": "text/x-python",
   "name": "python",
   "nbconvert_exporter": "python",
   "pygments_lexer": "ipython3",
   "version": "3.11.7"
  }
 },
 "nbformat": 4,
 "nbformat_minor": 5
}
