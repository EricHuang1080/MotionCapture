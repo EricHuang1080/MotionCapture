{
 "cells": [
  {
   "cell_type": "code",
   "execution_count": 4,
   "id": "c5e92267-83f2-4320-807c-042059e4b715",
   "metadata": {},
   "outputs": [
    {
     "name": "stdout",
     "output_type": "stream",
     "text": [
      "CamID.json created successfully!\n"
     ]
    }
   ],
   "source": [
    "import json\n",
    "\n",
    "# Define initial data for the JSON file\n",
    "customers = {}  # Start with an empty dictionary\n",
    "\n",
    "# Open a new JSON file in write mode and save the empty dictionary\n",
    "with open(\"CamID.json\", \"w\") as file:\n",
    "    json.dump(customers, file)\n",
    "\n",
    "print(\"CamID.json created successfully!\")"
   ]
  },
  {
   "cell_type": "code",
   "execution_count": null,
   "id": "3d52bfdc-746d-4a60-9665-577fb96545c9",
   "metadata": {},
   "outputs": [],
   "source": []
  }
 ],
 "metadata": {
  "kernelspec": {
   "display_name": "Python 3 (ipykernel)",
   "language": "python",
   "name": "python3"
  },
  "language_info": {
   "codemirror_mode": {
    "name": "ipython",
    "version": 3
   },
   "file_extension": ".py",
   "mimetype": "text/x-python",
   "name": "python",
   "nbconvert_exporter": "python",
   "pygments_lexer": "ipython3",
   "version": "3.11.7"
  }
 },
 "nbformat": 4,
 "nbformat_minor": 5
}
