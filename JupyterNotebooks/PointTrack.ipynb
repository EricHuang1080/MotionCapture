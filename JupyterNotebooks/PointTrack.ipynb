{
 "cells": [
  {
   "cell_type": "code",
   "execution_count": 2,
   "id": "b9c0047f-11a8-423c-9745-06321ed7a0d4",
   "metadata": {},
   "outputs": [],
   "source": [
    "import numpy as np\n",
    "import json\n",
    "import nbimporter\n",
    "from PicLocating import RGB_location\n",
    "from coord_transform import position_to_world_coordinate,rotate_vector_to_world_coordinate\n"
   ]
  },
  {
   "cell_type": "code",
   "execution_count": 104,
   "id": "6a3c216c-f85b-441c-85eb-303821915ce6",
   "metadata": {},
   "outputs": [],
   "source": [
    "def direction_vector_from_camera(CamName,image):\n",
    "    #read orientation and pixelVector from json\n",
    "    with open('CamID.json', 'r') as file:\n",
    "        cameras = json.load(file)\n",
    "    for camera in cameras:\n",
    "        if (camera.get(\"name\")) == CamName:\n",
    "            pV=camera.get('pixelVector')\n",
    "            CamLoca=camera.get('location')\n",
    "            CamOrien_X=camera.get('orientation_X')\n",
    "            CamOrien_Y=camera.get('orientation_Y')\n",
    "            CamOrien_Z=camera.get('orientation_Z')\n",
    "            print(CamLoca)\n",
    "    \n",
    "    #find point by PicLocating and find real world direction vector\n",
    "    RGB=RGB_location(image)\n",
    "    print(type(RGB[0][0]))\n",
    "    print(type(pV[0]))\n",
    "          \n",
    "    pV[0]=RGB[0][0]*pV[0]\n",
    "    pV[1]=RGB[0][1]*pV[1]\n",
    "    print(pV)\n",
    "    \n",
    "    #convert to world coordinate\n",
    "    direction_vector=rotate_vector_to_world_coordinate(pV, CamOrien_X, CamOrien_Y, CamOrien_Z)\n",
    "\n",
    "    A=(np.eye(3)-direction_vector@(direction_vector.T))\n",
    "    P=A@CamLoca\n",
    "    print(A)\n",
    "    print(P)\n",
    "                                                       \n",
    "    return direction_vector,A,P"
   ]
  },
  {
   "cell_type": "code",
   "execution_count": 106,
   "id": "ed6286b3-073f-4549-b8b1-d496eeeb3af3",
   "metadata": {},
   "outputs": [
    {
     "name": "stdout",
     "output_type": "stream",
     "text": [
      "Mean position of red pixels (R): (1191, 520)\n",
      "Mean position of green pixels (G): (1190, 584)\n",
      "Mean position of blue pixels (B): (1238, 522)\n"
     ]
    }
   ],
   "source": [
    "RGB=RGB_location('RGBcalibration.jpeg')[0]"
   ]
  },
  {
   "cell_type": "code",
   "execution_count": 108,
   "id": "e282b4d4-9ed0-49fd-93e8-9ebe4e943b2f",
   "metadata": {},
   "outputs": [
    {
     "name": "stdout",
     "output_type": "stream",
     "text": [
      "[-35.53657575548585, 9.026509676087638, -23.512174593042428]\n",
      "Mean position of red pixels (R): (1191, 520)\n",
      "Mean position of green pixels (G): (1190, 584)\n",
      "Mean position of blue pixels (B): (1238, 522)\n",
      "<class 'float'>\n",
      "<class 'float'>\n",
      "[0.21738288811459544, -0.06796239837398374, 1]\n",
      "[[ 0.02798256 -0.97201744 -0.97201744]\n",
      " [-0.97201744  0.02798256 -0.97201744]\n",
      " [-0.97201744 -0.97201744  0.02798256]]\n",
      "[13.08591464 57.64900007 25.1103158 ]\n"
     ]
    }
   ],
   "source": [
    "V,A,P=direction_vector_from_camera(\"EricsPad\",'RGBcalibration.jpeg')"
   ]
  },
  {
   "cell_type": "code",
   "execution_count": 110,
   "id": "2b82811f-b592-4740-bb65-3a8ce3e07218",
   "metadata": {},
   "outputs": [
    {
     "name": "stdout",
     "output_type": "stream",
     "text": [
      "[-35.53657576   9.02650968 -23.51217459]\n"
     ]
    }
   ],
   "source": [
    "antiA=np.linalg.inv(A)\n",
    "print(antiA@P)"
   ]
  },
  {
   "cell_type": "code",
   "execution_count": null,
   "id": "0808bf0b-f43d-47cb-a5c3-c679d2550a11",
   "metadata": {},
   "outputs": [],
   "source": []
  }
 ],
 "metadata": {
  "kernelspec": {
   "display_name": "Python 3 (ipykernel)",
   "language": "python",
   "name": "python3"
  },
  "language_info": {
   "codemirror_mode": {
    "name": "ipython",
    "version": 3
   },
   "file_extension": ".py",
   "mimetype": "text/x-python",
   "name": "python",
   "nbconvert_exporter": "python",
   "pygments_lexer": "ipython3",
   "version": "3.11.7"
  }
 },
 "nbformat": 4,
 "nbformat_minor": 5
}
